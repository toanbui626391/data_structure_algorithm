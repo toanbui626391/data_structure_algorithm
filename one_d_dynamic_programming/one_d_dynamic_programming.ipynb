{
 "cells": [
  {
   "cell_type": "markdown",
   "metadata": {},
   "source": [
    "### One Dimension Dynamic Programming"
   ]
  },
  {
   "cell_type": "markdown",
   "metadata": {},
   "source": [
    "### Problem: 70. Climbing Stairs\n",
    "\n",
    "Problem Statement:\n",
    "- You are climbing a staircase. It takes n steps to reach the top.\n",
    "- Each time you can either climb 1 or 2 steps. In how many distinct ways can you climb to the top?\n",
    "\n",
    "Solution Strategy:\n",
    "- If we present the problem requirement as decision tree then count distint wyas to climb the stairs as count number of leaf in the tree\n",
    "- Because you can take 1 or 2 step then: dfs(i) = dfs(i+1) + dfs(i+2)\n",
    "    - for each node you can have 1 or 2 leaf. dfs(i+1) and or dfs(i+2) reach to the top\n",
    "    - i is current start position index and dfs(i) is number of way to reach i\n"
   ]
  },
  {
   "cell_type": "code",
   "execution_count": null,
   "metadata": {},
   "outputs": [],
   "source": [
    "\"\"\"\n",
    "Solution Strategy:\n",
    "    Using decision tree, recursion and memorization\n",
    "    Count number of way to clain to the top of the stair is as count number of leaf in the tree\n",
    "    dfs(i) = dfs(i+1) + dfs(i+2), Or for each node you can reach the top from node(i+1) or node(i+2)\n",
    "    base case:\n",
    "        i == n: you can reach to the top from i\n",
    "        i > n: you can not reach to the top from i\n",
    "\"\"\"\n",
    "class Solution:\n",
    "    def climbStairs(self, n: int) -> int:\n",
    "\n",
    "        @cache\n",
    "        def dfs(i):\n",
    "            if i == n: #can reach top from i\n",
    "                return 1\n",
    "            elif i > n: # can not reach top from i\n",
    "                return 0\n",
    "            return dfs(i+1) + dfs(i+2) #count number of leaf\n",
    "        #check for simple case\n",
    "        if n <= 2:\n",
    "            return n\n",
    "        return dfs(0)"
   ]
  },
  {
   "cell_type": "markdown",
   "metadata": {},
   "source": [
    "### Proplem: 746. Min Cost Climbing Stairs\n",
    "Proplem statement:\n",
    "\n",
    "- You are given an integer array cost where cost[i] is the cost of ith step on a staircase. Once you pay the cost, you can either climb one or two steps.\n",
    "\n",
    "- You can either start from the step with index 0, or the step with index 1.\n",
    "\n",
    "- Return the minimum cost to reach the top of the floor.\n",
    "\n",
    "Solution Strategy:\n",
    "- Once you pay the cost, you can either climb one or two steps -> dfs(i) = cost[i] + min(dfs(i+1), dfs(i+2))\n",
    "- base case:\n",
    "    if >= len(costs): return 0 -> You have reach the top stop the search\n",
    "\n",
    "\n"
   ]
  },
  {
   "cell_type": "code",
   "execution_count": null,
   "metadata": {},
   "outputs": [],
   "source": [
    "\"\"\"\n",
    "Solution strategy\n",
    "    Use recursive and memorization\n",
    "    Once you pay the cost, you can either climb one or two steps -> dfs(i) = cost[i] + min(dfs(i+1), dfs(i+2))\n",
    "        i is the current index of the stair, dfs(i) is the min cost to reach i\n",
    "    base case: if i >= 2: return 0 -> you have reach to the top and stop traverse the tree\n",
    "\"\"\"\n",
    "class Solution:\n",
    "    def minCostClimbingStairs(self, cost: List[int]) -> int:\n",
    "\n",
    "        @cache\n",
    "        def dfs(i):\n",
    "            if i >= len(cost): #reach top of stair and stop traverse\n",
    "                return 0\n",
    "            return cost[i] + min(dfs(i+1), dfs(i+2)) #pay cost i you can reach i+1 or i+2\n",
    "        \n",
    "        if len(cost) <= 2:\n",
    "            return min(cost)\n",
    "        return min(dfs(0), dfs(1))"
   ]
  },
  {
   "cell_type": "markdown",
   "metadata": {},
   "source": [
    "### Problem: 198. House Robber\n",
    "Problem Statement:\n",
    "\n",
    "- You are a professional robber planning to rob houses along a street. Each house has a certain amount of money stashed, the only constraint stopping you from robbing each of them is that adjacent houses have security systems connected and it will automatically contact the police if two adjacent houses were broken into on the same night.\n",
    "- Given an integer array nums representing the amount of money of each house, return the maximum amount of money you can rob tonight without alerting the police.\n",
    "\n",
    "Solution Strategy:\n",
    "- Use recursive and memorization or dynamic programing\n",
    "- Robber can not rob two adjacent house -> dfs(i) = max(dfs(i+1), nums[i]+dfs(i+2))\n",
    "- base case: \n",
    "    - if i >= len(nums): return 0. You have reach all house and stop straverse the tree"
   ]
  },
  {
   "cell_type": "code",
   "execution_count": null,
   "metadata": {},
   "outputs": [],
   "source": [
    "class Solution:\n",
    "    def rob(self, nums: List[int]) -> int:\n",
    "\n",
    "        @cache\n",
    "        def dfs(i):\n",
    "            if i >= len(nums):\n",
    "                return 0\n",
    "            return max(dfs(i+1), nums[i]+dfs(i+2))\n",
    "        \n",
    "        if len(nums) <= 2:\n",
    "            return max(nums)\n",
    "        return dfs(0)"
   ]
  },
  {
   "cell_type": "markdown",
   "metadata": {},
   "source": [
    "### Problem: 213. House Robber II\n",
    "Problem Statement:\n",
    "- You are a professional robber planning to rob houses along a street. Each house has a certain amount of money stashed. All houses at this place are arranged in a circle. That means the first house is the neighbor of the last one. Meanwhile, adjacent houses have a security system connected, and it will automatically contact the police if two adjacent houses were broken into on the same night.\n",
    "\n",
    "- Given an integer array nums representing the amount of money of each house, return the maximum amount of money you can rob tonight without alerting the police.\n",
    "\n",
    "Solution Strategy:\n",
    "- Use recrusive and memorization strategy\n",
    "- Can not rob adjacent house and rob first house then can not rob last house\n",
    "    - add robFist for marking rob first house or not\n",
    "- @cache decorator can not cache list parameter\n",
    "\n",
    "\n"
   ]
  },
  {
   "cell_type": "code",
   "execution_count": null,
   "metadata": {},
   "outputs": [],
   "source": [
    "class Solution:\n",
    "    def rob(self, nums):\n",
    "\n",
    "        @cache\n",
    "        def dfs(i, robFirst): #can not cache a list parameter\n",
    "            n = len(nums)\n",
    "            #if robber rob first house then can not rob last house\n",
    "            if i >= n or (i >= n-1 and robFirst):\n",
    "                return 0\n",
    "            return max(dfs(i+1, robFirst), nums[i] + dfs(i+2, robFirst))\n",
    "        \n",
    "        if len(nums) <= 2:\n",
    "            return max(nums)\n",
    "        return max(dfs(1, False), nums[0] + dfs(2, True))\n"
   ]
  },
  {
   "cell_type": "markdown",
   "metadata": {},
   "source": [
    "### Problem: 91. Decode Ways\n",
    "Problem Statement:\n",
    "\n",
    "- You have intercepted a secret message encoded as a string of numbers. The message is decoded via the following mapping:\n",
    "- \"1\" -> 'A'\n",
    "- \"2\" -> 'B'\n",
    "- ...\n",
    "- \"25\" -> 'Y'\n",
    "- \"26\" -> 'Z'\n",
    "- However, while decoding the message, you realize that there are many different ways you can decode the message because some codes are contained in other codes (\"2\" and \"5\" vs \"25\").\n",
    "- For example, \"11106\" can be decoded into:\n",
    "- \"AAJF\" with the grouping (1, 1, 10, 6)\n",
    "- \"KJF\" with the grouping (11, 10, 6)\n",
    "- The grouping (1, 11, 06) is invalid because \"06\" is not a valid code (only \"6\" is valid).\n",
    "- Note: there may be strings that are impossible to decode.\n",
    "- Given a string s containing only digits, return the number of ways to decode it. If the entire string cannot be decoded in any valid way, return 0.\n",
    "\n",
    "Solution Strategy:\n",
    "- Use Recursion on Decision Tree and Memorization\n",
    "- Count number of decode way -> count number of leaf\n",
    "    - dfs(substring) = dfs(substring[1:]) +/or dfs(substring[2:]) -> number of leaf of the current node is combination of number of leaf at dfs(substring[1:]) or/and dfs(substring[2:])\n",
    "    - base case: if not substring: return 1 -> when finish traverse decision tree, you have finishe 1 way to decode the string or 1 leaf of the decision tree"
   ]
  },
  {
   "cell_type": "code",
   "execution_count": null,
   "metadata": {},
   "outputs": [],
   "source": [
    "class Solution:\n",
    "    def numDecodings(self, s: str) -> int:\n",
    "\n",
    "        @cache\n",
    "        def dfs(substring):\n",
    "            if not substring: #you have finish decode\n",
    "                return 1\n",
    "            #compute number of decode way\n",
    "            first_case, second_case = 0, 0\n",
    "            if 1 <= int(substring[:1]) <= 9:\n",
    "                first_case = dfs(substring[1:])\n",
    "            if 10 <= int(substring[:2]) <= 26:\n",
    "                second_case = dfs(substring[2:])\n",
    "            return first_case + second_case\n",
    "        \n",
    "        return dfs(s)"
   ]
  },
  {
   "cell_type": "markdown",
   "metadata": {},
   "source": [
    "### Problem: 322. Coin Change\n",
    "Problem Statement:\n",
    "- You are given an integer array coins representing coins of different denominations and an integer amount representing a total amount of money.\n",
    "- Return the fewest number of coins that you need to make up that amount. If that amount of money cannot be made up by any combination of the coins, return -1.\n",
    "- You may assume that you have an infinite number of each kind of coin.\n",
    "\n",
    "Solution Strategy:\n",
    "- use recursion decision tree and memorization\n",
    "- Return the fewest number of coins that you need to make up that amount -> compute the min depth of the decision tree\n",
    "- dfs(total) = min(1+dfs(total+c) for c in coins) -> compute min depth of the tree, \n",
    "- base case\n",
    "    - if total == amount: return 0 -> after traverse the tree, we can reach amount\n",
    "    - if total > amount: return inf -> after traverse the tree, we can not reach \n"
   ]
  },
  {
   "cell_type": "code",
   "execution_count": null,
   "metadata": {},
   "outputs": [],
   "source": [
    "from math import inf, isinf\n",
    "class Solution:\n",
    "    def coinChange(self, coins: List[int], amount: int) -> int:\n",
    "        @cache\n",
    "        def dfs(total):\n",
    "            if total == amount: #can reach amount\n",
    "                return 0\n",
    "            if total > amount: #can not reach amount\n",
    "                return inf\n",
    "            #compute min depth of the tree\n",
    "            return min(1+dfs(total+c) for c in coins)\n",
    "        res = dfs(0)\n",
    "        return -1 if isinf(res) else res"
   ]
  },
  {
   "cell_type": "markdown",
   "metadata": {},
   "source": [
    "### Problem: 139. Word Break\n",
    "\n",
    "Problem Statement:\n",
    "- Given a string s and a dictionary of strings wordDict, return true if s can be segmented into a space-separated sequence of one or more dictionary words.\n",
    "- Note that the same word in the dictionary may be reused multiple times in the segmentation.\n",
    "\n",
    "Solution Strategy:\n",
    "- Use recursion and memorization technique.\n",
    "- In stead of straverse string s, for each node we traverse each word in wordDict\n",
    "- For string straverse problem, use substring parameter input as cache\n",
    "- base case:\n",
    "    - if not substring: return True -> when finish traverse node there for substring can be made from wordDict\n",
    "    - for each substring, it can either True for False by making up from wordDict\n",
    "    "
   ]
  },
  {
   "cell_type": "code",
   "execution_count": null,
   "metadata": {},
   "outputs": [],
   "source": [
    "class Solution:\n",
    "    def wordBreak(self, s: str, wordDict: List[str]) -> bool:\n",
    "\n",
    "        @cache\n",
    "        def dfs(substring):\n",
    "            #base case when finish traverse the tree\n",
    "            if not substring:\n",
    "                return True\n",
    "            #traverse tree, return True when current node and all child node is True\n",
    "            for w in wordDict:\n",
    "                if substring.startswith(w):\n",
    "                    if dfs(substring[len(w):]):\n",
    "                        return True\n",
    "            #everythin else return False\n",
    "            return False \n",
    "        return dfs(s)"
   ]
  },
  {
   "cell_type": "markdown",
   "metadata": {},
   "source": [
    "### Problem: 300. Longest Increasing Subsequence\n",
    "Problem Statement:\n",
    "- Given an integer array nums, return the length of the longest strictly increasing subsequence\n",
    "- A subsequence is an array that can be derived from another array by deleting some or no elements without changing the order of the remaining elements.\n",
    "\n",
    "Solution Strategy:\n",
    "- Use recursive decision tree and memorization\n",
    "- compute the length of the longest strictly increasing subsequence -> compute max depth of the decision tree\n",
    "- base case:\n",
    "    - if i >= n: return 0 -> you have finished traverse the tree and stop"
   ]
  },
  {
   "cell_type": "code",
   "execution_count": null,
   "metadata": {},
   "outputs": [],
   "source": [
    "class Solution:\n",
    "    def lengthOfLIS(self, nums: List[int]) -> int:\n",
    "\n",
    "        @cache\n",
    "        def dfs(i):\n",
    "            n = len(nums)\n",
    "            #base case, when finished traverse\n",
    "            if i >= n:\n",
    "                return 0\n",
    "            #compute the max depth of the tree or longest increasing subsequence\n",
    "            l = 1\n",
    "            for j in range(i+1, n):\n",
    "                if nums[j] > nums[i]:\n",
    "                    l = max(l, 1+dfs(j))\n",
    "            return l\n",
    "        #avoid missing subsequence\n",
    "        return max(dfs(i) for i in range(len(nums)))"
   ]
  },
  {
   "cell_type": "markdown",
   "metadata": {},
   "source": [
    "### Problem: 416. Partition Equal Subset Sum\n",
    "Problem Statement:\n",
    "- Given an integer array nums, return true if you can partition the array into two subsets such that the sum of the elements in both subsets is equal or false otherwise.\n",
    "\n",
    "Solution Strategy:\n",
    "- Use Recursion Decision Tree and Memorization\n",
    "- check can partion two equal subset -> just need to check can form a set with hafl of sum(nums)\n",
    "- dfs(i, total) = dfs(i+1, total - nums[i]) or dfs(i+1, total) -> can partition of the current node is can partition of the two child node\n",
    "    - dfs(i+1, total - nums[i]) -> take numb[i] into subset and move to child node\n",
    "    - dfs(i+1, total) -> do not take nums[i] into subset and move to the child node"
   ]
  },
  {
   "cell_type": "code",
   "execution_count": null,
   "metadata": {},
   "outputs": [],
   "source": [
    "class Solution:\n",
    "    def canPartition(self, nums: List[int]) -> bool:\n",
    "        @cache\n",
    "        def dfs(i, total):\n",
    "            #can partition\n",
    "            if total == 0:\n",
    "                return True\n",
    "            #can not partition\n",
    "            if i >= len(nums) or total < 0:\n",
    "                return False\n",
    "            #check partition \n",
    "            if dfs(i+1, total - nums[i]) or dfs(i+1, total):\n",
    "                return True\n",
    "            return False\n",
    "        #can not partition into two equal subset\n",
    "        if sum(nums) % 2 == 1: return False\n",
    "        \n",
    "        return dfs(0, sum(nums)//2)"
   ]
  },
  {
   "cell_type": "markdown",
   "metadata": {},
   "source": [
    "### Problem: 152. Maximum Product Subarray\n",
    "Problem Statement:\n",
    "- Given an integer array nums, find a subarray that has the largest product, and return the product.\n",
    "- A subarray is a contiguous non-empty sequence of elements within an array.\n",
    "\n",
    "Solution Strategy:\n",
    "- Use Dynamic Programming\n",
    "- maxinum product subarray -> maxProduct of subarray which contain n is (curMax*n, curMin*n, n)"
   ]
  },
  {
   "cell_type": "code",
   "execution_count": null,
   "metadata": {},
   "outputs": [],
   "source": [
    "class Solution:\n",
    "    def maxProduct(self, nums: List[int]) -> int:\n",
    "\n",
    "        curMin, curMax = 1, 1\n",
    "        res = nums[0] #start searching\n",
    "        for n in nums:\n",
    "            val = (curMin*n, curMax*n, n)\n",
    "            curMin, curMax = min(val), max(val)\n",
    "            res = max(res, curMax)\n",
    "        return res"
   ]
  },
  {
   "cell_type": "markdown",
   "metadata": {},
   "source": [
    "### Problem: 5. Longest Palindromic Substring\n",
    "Problem Statement:\n",
    "- Given a string s, return the longest palindromic substring in s.\n",
    "- A substring is a contiguous non-empty sequence of characters within a string.\n",
    "\n",
    "Solution Strategy:\n",
    "- Use Dynamic Programing\n",
    "    - compare all possible substring which is palindrome\n",
    "- get_palindrome(s, l, r) -> get longest possible palindrome from any position"
   ]
  },
  {
   "cell_type": "code",
   "execution_count": null,
   "metadata": {},
   "outputs": [],
   "source": [
    "class Solution:\n",
    "    def longestPalindrome(self, s: str) -> str:\n",
    "        #get longest palindrome by compare all possible long palindrome\n",
    "        res = \"\"\n",
    "        for i in range(len(s)):\n",
    "            p1 = self.get_palindrome(s, i, i)\n",
    "            p2 = self.get_palindrome(s, i, i+1)\n",
    "            res = max([p1, p2, res], key=len)\n",
    "        return res\n",
    "    #helper function which get palindrome from any position of the string\n",
    "    def get_palindrome(self, s, l, r):\n",
    "        while l>=0 and r < len(s) and s[l] == s[r]:\n",
    "            l, r = l-1, r+1\n",
    "        return s[l+1:r]"
   ]
  },
  {
   "cell_type": "markdown",
   "metadata": {},
   "source": [
    "### Problem: 647. Palindromic Substrings\n",
    "Problem Statement:\n",
    "- Given a string s, return the number of palindromic substrings in it.\n",
    "- A string is a palindrome when it reads the same backward as forward.\n",
    "- A substring is a contiguous sequence of characters within the string.\n",
    "\n",
    "Solution Strategy:\n",
    "- Using Dynamic Programming\n",
    "- count_palindrome(s, l, r) -> count number of palindrome from every position of the substring\n"
   ]
  },
  {
   "cell_type": "code",
   "execution_count": null,
   "metadata": {},
   "outputs": [],
   "source": [
    "class Solution:\n",
    "    def countSubstrings(self, s: str) -> int:\n",
    "\n",
    "        res = 0\n",
    "        for i in range(len(s)):\n",
    "            res += self.count_palindrome(s, i, i)\n",
    "            res += self.count_palindrome(s, i, i+1)\n",
    "        return res\n",
    "    def count_palindrome(self, s, l, r):\n",
    "        count = 0 #init count\n",
    "        while l>= 0 and r < len(s) and s[l]==s[r]:\n",
    "            count += 1\n",
    "            l, r = l-1, r+1\n",
    "        return count"
   ]
  },
  {
   "cell_type": "markdown",
   "metadata": {},
   "source": []
  },
  {
   "cell_type": "code",
   "execution_count": null,
   "metadata": {},
   "outputs": [],
   "source": [
    "class Solution:\n",
    "    def uniquePaths(self, m: int, n: int) -> int:\n",
    "        #compute number of possible unique path -> compute number of leaf\n",
    "        @cache\n",
    "        def dfs(i, j):\n",
    "            if (i, j) == (m-1, n-1):\n",
    "                return 1\n",
    "            elif i >= m or j >= n:\n",
    "                return 0\n",
    "            return dfs(i+1, j) + dfs(i, j+1)\n",
    "        return dfs(0, 0)"
   ]
  },
  {
   "cell_type": "markdown",
   "metadata": {},
   "source": []
  },
  {
   "cell_type": "code",
   "execution_count": null,
   "metadata": {},
   "outputs": [],
   "source": []
  }
 ],
 "metadata": {
  "kernelspec": {
   "display_name": "data-structure-algorithm-NWMdtDj1-py3.12",
   "language": "python",
   "name": "python3"
  },
  "language_info": {
   "name": "python",
   "version": "3.12.4"
  }
 },
 "nbformat": 4,
 "nbformat_minor": 2
}
