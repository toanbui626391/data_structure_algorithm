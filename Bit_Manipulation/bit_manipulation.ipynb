{
 "cells": [
  {
   "cell_type": "markdown",
   "metadata": {},
   "source": [
    "### Problem 136. Single Number\n",
    "Problem Statement:\n",
    "- Given a non-empty array of integers nums, every element appears twice except for one. Find that single one.\n",
    "- You must implement a solution with a linear runtime complexity and use only constant extra space.\n",
    "\n",
    "Solution Strategy:\n",
    "- use XOR bitwise operation\n",
    "    - x^x = 0\n",
    "    - x^0 = x\n",
    "    - x^y = y^x\n"
   ]
  },
  {
   "cell_type": "code",
   "execution_count": null,
   "metadata": {},
   "outputs": [],
   "source": [
    "class Solution:\n",
    "    def singleNumber(self, nums: List[int]) -> int:\n",
    "        #xor bitwise operation (^)\n",
    "            # x^x = 0\n",
    "            # x^0 = x\n",
    "            # x^y = y^x\n",
    "        res = 0\n",
    "        for n in nums:\n",
    "            res ^= n\n",
    "        return res"
   ]
  },
  {
   "cell_type": "markdown",
   "metadata": {},
   "source": [
    "### Problem 191. Number of 1 Bits\n",
    "Problem Statement:\n",
    "- Write a function that takes the binary representation of a positive integer and returns the number of \n",
    "set bits it has or count number of 1 bit in the bit representation\n",
    "\n",
    "Solution Strategy:\n",
    "- use bitwise and operation with 1 -> find the last bit is 1 or 0\n",
    "- use right shift of 1 -> move to the next bit from right to left"
   ]
  },
  {
   "cell_type": "code",
   "execution_count": null,
   "metadata": {},
   "outputs": [],
   "source": [
    "class Solution:\n",
    "    def hammingWeight(self, n: int) -> int:\n",
    "        count = 0\n",
    "        while n != 0:\n",
    "            #n&1 -> find the last bit is 0 or 1\n",
    "            #n >>= 1 move index from left to right\n",
    "            count += n&1\n",
    "            n >>= 1\n",
    "        return count"
   ]
  },
  {
   "cell_type": "markdown",
   "metadata": {},
   "source": [
    "### Problem 338. Counting Bits\n",
    "Problem Statement:\n",
    "- Given an integer n, return an array ans of length n + 1 such that for each i (0 <= i <= n), ans[i] is the number of 1's in the binary representation of i.\n",
    "\n",
    "Solution Strategy:\n",
    "- use dynamic programming\n",
    "- res[i] = res[i>>1] + (i&1)\n",
    "    - i>>1 = i//2\n",
    "    - i&1 find last bit is 1 or 0\n",
    "\n"
   ]
  },
  {
   "cell_type": "code",
   "execution_count": null,
   "metadata": {},
   "outputs": [],
   "source": [
    "class Solution:\n",
    "    def countBits(self, n: int) -> List[int]:\n",
    "    # x>>1 =>x/2 int division\n",
    "    # x<<1 =>x*2\n",
    "    # x&1  => is_odd(x) or last bit is 1 or 0\n",
    "    # 1<<b =>2**b\n",
    "        ans = [0] * (n + 1)\n",
    "        for i in range(1, n + 1):\n",
    "            ans[i] = ans[i >> 1] + (i & 1)\n",
    "        return ans"
   ]
  },
  {
   "cell_type": "markdown",
   "metadata": {},
   "source": [
    "### Problem 190. Reverse Bits\n",
    "Problem Statement:\n",
    "- Reverse bits of a given 32 bits unsigned integer.\n",
    "\n",
    "Solution Strategy:\n",
    "- Use bit manipulation technique\n",
    "- right shift, left shift and get last bit value"
   ]
  },
  {
   "cell_type": "code",
   "execution_count": null,
   "metadata": {},
   "outputs": [],
   "source": [
    "class Solution:\n",
    "    def reverseBits(self, n: int) -> int:\n",
    "\n",
    "        res = 0\n",
    "        for i in range(32):\n",
    "            #(res << 1) or left shift with 1 -> current position to find bit\n",
    "            #(n&1) -> to find last bit is 0 or 1\n",
    "            #(res << 1) | (n&1) -> add found last bit to current index\n",
    "            #n>>1 -> move to next bit\n",
    "            res = (res << 1) | (n&1)\n",
    "            n >>= 1\n",
    "        return res\n",
    "        "
   ]
  },
  {
   "cell_type": "markdown",
   "metadata": {},
   "source": [
    "### 268. Missing Number\n",
    "Problem Statement:\n",
    "- Given an array nums containing n distinct numbers in the range [0, n], return the only number in the range that is missing from the array.\n",
    "\n",
    "Solution Strategy:\n",
    "- use XOR bitwase operation"
   ]
  },
  {
   "cell_type": "code",
   "execution_count": null,
   "metadata": {},
   "outputs": [],
   "source": [
    "class Solution:\n",
    "    def missingNumber(self, nums: List[int]) -> int:\n",
    "        #xor bitwise operation:\n",
    "            # x^x -> 0\n",
    "            # x^y = y^x\n",
    "            # x^0 = x\n",
    "        # because run two loop multiplication to find answer  \n",
    "        n = len(nums)\n",
    "        ans = 0\n",
    "        for i in range(1, n + 1):\n",
    "            ans ^= i\n",
    "        for num in nums:\n",
    "            ans ^= num\n",
    "        return ans\n"
   ]
  },
  {
   "cell_type": "markdown",
   "metadata": {},
   "source": [
    "### 371. Sum of Two Integers\n",
    "Problem Statement\n",
    "- Given two integers a and b, return the sum of the two integers without using the operators + and -.\n",
    "\n",
    "Solution Strategy:\n",
    "- use XOR for a+b without handle carry number\n",
    "- use & and then << 1 to compute carry"
   ]
  },
  {
   "cell_type": "code",
   "execution_count": null,
   "metadata": {},
   "outputs": [],
   "source": [
    "class Solution:\n",
    "    def getSum(self, a: int, b: int) -> int:\n",
    "        mask = pow(2, 32) - 1\n",
    "        #a&mask, b&mask to keep 32 bit integer result\n",
    "        # a^b: is a + b without carry\n",
    "        # (a&b) << 1: is carry\n",
    "        while b&mask:\n",
    "            a, b = a^b, (a&b)<<1\n",
    "        return a&mask if b != 0 else aå"
   ]
  },
  {
   "cell_type": "markdown",
   "metadata": {},
   "source": [
    "### Problem 7. Reverse Integer\n",
    "Problem Statement:\n",
    "- Given a signed 32-bit integer x, return x with its digits reversed. If reversing x causes the value to go outside the signed 32-bit integer range [-231, 231 - 1], then return 0.\n",
    "- Assume the environment does not allow you to store 64-bit integers (signed or unsigned).\n",
    "\n",
    "Solution Strategy:\n",
    "- use //, or % \n",
    "- use left shift to get max_int_val"
   ]
  },
  {
   "cell_type": "code",
   "execution_count": null,
   "metadata": {},
   "outputs": [],
   "source": [
    "class Solution:\n",
    "    def reverse(self, x: int) -> int:\n",
    "        res = 0\n",
    "        sign = 1 if x >= 0 else -1\n",
    "\n",
    "        max_int_val = 1 << 31 #2^31 #largest 32 bit int\n",
    "        max_res_val = max_int_val // 10 #\n",
    "        max_remain_val = max_int_val % 10\n",
    "        x = abs(x) #remove sign\n",
    "        #reverse int\n",
    "        while x > 0:\n",
    "            #check for valid reverse res\n",
    "            if res > max_res_val or (res == max_res_val and x%10 >= max_remain_val):\n",
    "                return 0\n",
    "            res, x = (res * 10) + x%10, x//10\n",
    "        #return correct value with sign    \n",
    "        return sign*res\n"
   ]
  }
 ],
 "metadata": {
  "kernelspec": {
   "display_name": "data-structure-algorithm-NWMdtDj1-py3.12",
   "language": "python",
   "name": "python3"
  },
  "language_info": {
   "name": "python",
   "version": "3.12.4"
  }
 },
 "nbformat": 4,
 "nbformat_minor": 2
}
