{
 "cells": [
  {
   "cell_type": "markdown",
   "metadata": {},
   "source": [
    "### 2-D Dynamic Programming\n",
    "- reference link: https://neetcode.io/roadmap"
   ]
  },
  {
   "cell_type": "markdown",
   "metadata": {},
   "source": [
    "### Problem: 62. Unique Paths\n",
    "Problem Statement:\n",
    "- There is a robot on an m x n grid. The robot is initially located at the top-left corner (i.e., grid[0][0]). The robot tries to move to the bottom-right corner (i.e., grid[m - 1][n - 1]). The robot can only move either down or right at any point in time.\n",
    "- Given the two integers m and n, return the number of possible unique paths that the robot can take to reach the bottom-right corner.\n",
    "\n",
    "Solution Strategy:\n",
    "- Use decision tree recursion and memorization\n",
    "- compute the number of possible unique paths that the robot can take to reach the bottom-right corner -> compute number of leaf of the tree"
   ]
  },
  {
   "cell_type": "code",
   "execution_count": null,
   "metadata": {},
   "outputs": [],
   "source": [
    "class Solution:\n",
    "    def uniquePaths(self, m: int, n: int) -> int:\n",
    "        #compute number of possible unique path -> compute number of leaf\n",
    "        @cache\n",
    "        def dfs(i, j):\n",
    "            #can reach bottom right and find on path\n",
    "            if (i, j) == (m-1, n-1):\n",
    "                return 1\n",
    "            #condition to stop the search\n",
    "            if i >= m or j >= n:\n",
    "                return 0\n",
    "            #dfs(i+1, j) -> move down, dfs(i, j+1) -> move right\n",
    "            return dfs(i+1, j) + dfs(i, j+1)\n",
    "        return dfs(0, 0)"
   ]
  },
  {
   "cell_type": "markdown",
   "metadata": {},
   "source": [
    "### Problem: 1143. Longest Common Subsequence\n",
    "Problem Statement:\n",
    "- Given two strings text1 and text2, return the length of their longest common subsequence. If there is no common subsequence, return 0.\n",
    "- A subsequence of a string is a new string generated from the original string with some characters (can be none) deleted without changing the relative order of the remaining characters.\n",
    "- For example, \"ace\" is a subsequence of \"abcde\".\n",
    "- A common subsequence of two strings is a subsequence that is common to both strings.\n",
    "\n",
    "Solution Strategy:\n",
    "- Using decision tree recursion and memorization\n",
    "- compute the length of the longest common subsequence construct from two string -> compute math depth of the tree"
   ]
  },
  {
   "cell_type": "code",
   "execution_count": null,
   "metadata": {},
   "outputs": [],
   "source": [
    "class Solution:\n",
    "    def longestCommonSubsequence(self, text1: str, text2: str) -> int:\n",
    "        #compute length of longest subsequence -> compute max depth of the tree\n",
    "        @cache\n",
    "        def dfs(i, j):\n",
    "\n",
    "            #base case, when \n",
    "            m, n = len(text1), len(text2)\n",
    "            if i < m and j < n:\n",
    "                #case when find comment\n",
    "                if text1[i] == text2[j]:\n",
    "                    return 1 + dfs(i+1, j+1)\n",
    "                #case when not find comment\n",
    "                return max(dfs(i+1, j), dfs(i, j+1))\n",
    "            #can not find comment sub sequence\n",
    "            return 0\n",
    "        \n",
    "        return dfs(0, 0)"
   ]
  },
  {
   "cell_type": "markdown",
   "metadata": {},
   "source": [
    "### 309. Best Time to Buy and Sell Stock with Cooldown\n",
    "Problem Statement:\n",
    "- You are given an array prices where prices[i] is the price of a given stock on the ith day.\n",
    "- Find the maximum profit you can achieve. You may complete as many transactions as you like (i.e., buy one and sell one share of the stock multiple times) with the following restrictions:\n",
    "- After you sell your stock, you cannot buy stock on the next day (i.e., cooldown one day).\n",
    "\n",
    "Solution Strategy:\n",
    "- Using decision tree recursion and memorization\n",
    "- "
   ]
  },
  {
   "cell_type": "code",
   "execution_count": null,
   "metadata": {},
   "outputs": [],
   "source": [
    "class Solution:\n",
    "    def maxProfit(self, prices: List[int]) -> int:\n",
    "        # compute max profit\n",
    "        @cache\n",
    "        def dfs(i, buying):\n",
    "            if i >= len(prices):\n",
    "                return 0\n",
    "            #if status is cooldown then profit of i will be the same of chile (no buy or shell)\n",
    "            profit_cool = dfs(i+1, buying)\n",
    "            if buying:\n",
    "                #if buy then current profit is child profit - prices[i] (give money to buy)\n",
    "                profit_buy = dfs(i+1, not buying) - prices[i]\n",
    "                return max(profit_cool, profit_buy) #for each node we have two decision\n",
    "            else:\n",
    "                #if sell then current profit = child profit + prices[i] (get money when sell)\n",
    "                #when sell you must have one day of cooldown (n)\n",
    "                profit_sell = dfs(i+2, not buying) + prices[i]\n",
    "                return max(profit_cool, profit_sell)\n",
    "        #start at prices index 0 and buying\n",
    "        return dfs(0, True)"
   ]
  },
  {
   "cell_type": "markdown",
   "metadata": {},
   "source": [
    "### Problem: 518. Coin Change II\n",
    "Problem Statement:\n",
    "- You are given an integer array coins representing coins of different denominations and an integer amount representing a total amount of money.\n",
    "- Return the number of combinations that make up that amount. If that amount of money cannot be made up by any combination of the coins, return 0.\n",
    "- You may assume that you have an infinite number of each kind of coin.\n",
    "\n",
    "Solution Strategy:\n",
    "- Using decision tree recursion and memorization"
   ]
  },
  {
   "cell_type": "code",
   "execution_count": null,
   "metadata": {},
   "outputs": [],
   "source": [
    "class Solution:\n",
    "    def change(self, amount: int, coins: List[int]) -> int:\n",
    "        \n",
    "        #compute combination -> compute number of leaf\n",
    "        @cache\n",
    "        def dfs(i, total):\n",
    "            if total == amount:\n",
    "                return 1\n",
    "            if total > amount:\n",
    "                return 0\n",
    "            if i >= len(coins):\n",
    "                return 0\n",
    "            #to make combination, each node have two child node, 1. take i, 2 not take i\n",
    "            #dfs(i, total+coins[i]) -> take i and continue with all current option\n",
    "            #dfs(i+1, total) -> not take i and reduce element to choose from\n",
    "            return dfs(i, total+coins[i]) + dfs(i+1, total)\n",
    "        return dfs(0, 0)"
   ]
  },
  {
   "cell_type": "markdown",
   "metadata": {},
   "source": [
    "### 494. Target Sum\n",
    "Problem Statement:\n",
    "- You are given an integer array nums and an integer target.\n",
    "- You want to build an expression out of nums by adding one of the symbols '+' and '-' before each integer in nums and then concatenate all the integers.\n",
    "- For example, if nums = [2, 1], you can add a '+' before 2 and a '-' before 1 and concatenate them to build the expression \"+2-1\".\n",
    "- Return the number of different expressions that you can build, which evaluates to target.\n",
    "\n",
    "Solution Strategy:\n",
    "- Using decision tree recursion and memorization\n",
    "- compute the number of different expression -> compute number of leaf\n",
    "\n"
   ]
  },
  {
   "cell_type": "code",
   "execution_count": null,
   "metadata": {},
   "outputs": [],
   "source": [
    "class Solution:\n",
    "    def findTargetSumWays(self, nums: List[int], target: int) -> int:\n",
    "        @cache\n",
    "        def dfs(i, total):\n",
    "            #you must finish traverse the decision tree\n",
    "            if i >= len(nums):\n",
    "                return 1 if total == target else 0\n",
    "            return dfs(i+1, total + nums[i]) + dfs(i+1, total-nums[i])\n",
    "        return dfs(0, 0)"
   ]
  },
  {
   "cell_type": "markdown",
   "metadata": {},
   "source": [
    "### Problem: 97. Interleaving String\n",
    "Solution Statement:\n",
    "- Given strings s1, s2, and s3, find whether s3 is formed by an interleaving of s1 and s2.\n",
    "- An interleaving of two strings s and t is a configuration where s and t are divided into n and m \n",
    "substrings respectively, such that:\n",
    "- s = s1 + s2 + ... + sn\n",
    "- t = t1 + t2 + ... + tm\n",
    "- |n - m| <= 1\n",
    "- The interleaving is s1 + t1 + s2 + t2 + s3 + t3 + ... or t1 + s1 + t2 + s2 + t3 + s3 + ...\n",
    "\n",
    "Solution Strategy:\n",
    "- Use decision tree recursion and memorization"
   ]
  },
  {
   "cell_type": "code",
   "execution_count": null,
   "metadata": {},
   "outputs": [],
   "source": [
    "class Solution:\n",
    "    def isInterleave(self, s1: str, s2: str, s3: str) -> bool:\n",
    "        @cache\n",
    "        def dfs(i, j):\n",
    "            #when to stope the search\n",
    "            if i == len(s1) and j == len(s2):\n",
    "                return True\n",
    "            #move s1 index\n",
    "            if i < len(s1) and s3[i+j] == s1[i] and dfs(i+1, j):\n",
    "                return True\n",
    "            #move s2 index\n",
    "            if j < len(s2) and s3[i+j] == s2[j] and dfs(i, j+1):\n",
    "                return True\n",
    "            #everything else return False\n",
    "            return False\n",
    "        \n",
    "        if len(s1) + len(s2) != len(s3):\n",
    "            return False\n",
    "        return dfs(0, 0)"
   ]
  },
  {
   "cell_type": "markdown",
   "metadata": {},
   "source": [
    "### 329. Longest Increasing Path in a Matrix\n",
    "Problem Statement: \n",
    "- Given an m x n integers matrix, return the length of the longest increasing path in matrix.\n",
    "- From each cell, you can either move in four directions: left, right, up, or down. You may not move diagonally or move outside the boundary (i.e., wrap-around is not allowed).\n",
    "\n",
    "Solution Strategy\n",
    "- Using decision tree recursion and memorization\n",
    "- Find the longest increase path -> find max depth\n",
    "- dfs(i, j, prev)\n",
    "    - move left: dfs(i, j-1, prev)\n",
    "    - move right: dfs(i, j+1, prev)\n",
    "    - move up: dfs(i-1, j, prev)\n",
    "    - move down: dfs(i+1, j, prev)"
   ]
  },
  {
   "cell_type": "code",
   "execution_count": null,
   "metadata": {},
   "outputs": [],
   "source": [
    "from math import inf\n",
    "class Solution:\n",
    "    def longestIncreasingPath(self, matrix: List[List[int]]) -> int:\n",
    "        \n",
    "        m, n = len(matrix), len(matrix[0])\n",
    "        memory = {} #(r, c)\n",
    "\n",
    "        def dfs(i, j, prev):\n",
    "            #condition to stop traverse and compute depth\n",
    "            if i < 0 or i >= m or j < 0 or j >= n or prev >= matrix[i][j]:\n",
    "                return 0\n",
    "            if (i, j) in memory:\n",
    "                return memory[(i, j)]\n",
    "            \n",
    "            res = 1\n",
    "            res = max(res, 1+dfs(i, j+1, matrix[i][j])) #right\n",
    "            res = max(res, 1+dfs(i, j-1, matrix[i][j])) #left\n",
    "            res = max(res, 1+dfs(i+1, j, matrix[i][j])) #down\n",
    "            res = max(res, 1+dfs(i-1, j, matrix[i][j])) #up\n",
    "            memory[(i, j)] = res\n",
    "            return res\n",
    "\n",
    "        for i in range(m):\n",
    "            for j in range(n):\n",
    "                dfs(i, j, -inf)\n",
    "        return max(memory.values())"
   ]
  },
  {
   "cell_type": "markdown",
   "metadata": {},
   "source": [
    "### Problem: 115. Distinct Subsequences\n",
    "Problem Statement:\n",
    "- Given two strings s and t, return the number of distinct subsequences of s which equals t.\n",
    "- The test cases are generated so that the answer fits on a 32-bit signed integer.\n",
    "\n",
    "Solution Strategy:\n",
    "- Use decision tree recursion and memorization\n",
    "- compute the number of distinct subsequence -> compute number of leaf\n"
   ]
  },
  {
   "cell_type": "code",
   "execution_count": null,
   "metadata": {},
   "outputs": [],
   "source": [
    "class Solution:\n",
    "    def numDistinct(self, s: str, t: str) -> int:\n",
    "        #compute the number of distinct subsequences -> compute number of leaf\n",
    "        @cache\n",
    "        def dfs(i, j):\n",
    "            #find \n",
    "            if j >= len(t):\n",
    "                return 1\n",
    "            if i >= len(s):\n",
    "                return 0\n",
    "\n",
    "            res = 0\n",
    "            if s[i] == t[j]:\n",
    "                res += dfs(i+1, j+1)\n",
    "            res += dfs(i+1, j)\n",
    "            return res\n",
    "        return dfs(0, 0)\n"
   ]
  },
  {
   "cell_type": "markdown",
   "metadata": {},
   "source": [
    "### Problem: 72. Edit Distance\n",
    "- Given two strings word1 and word2, return the minimum number of operations required to convert word1 to word2.\n",
    "- You have the following three operations permitted on a word:\n",
    "    - Insert a character\n",
    "    - Delete a character\n",
    "    - Replace a character\n",
    "\n",
    "    "
   ]
  },
  {
   "cell_type": "code",
   "execution_count": null,
   "metadata": {},
   "outputs": [],
   "source": [
    "class Solution:\n",
    "    def minDistance(self, word1: str, word2: str) -> int:\n",
    "        dp = {}\n",
    "        \n",
    "        def getResult(i,j):\n",
    "            if i == len(word1) and j == len(word2):\n",
    "                return 0\n",
    "            if i == len(word1):  # Reached end of word1, Insert all left from word2\n",
    "                return len(word2) - j\n",
    "            if j == len(word2): # All chars of word2 are matched, Remove all left from word2\n",
    "                return len(word1) - i\n",
    "\n",
    "            if (i, j) not in dp:\n",
    "                if word1[i] == word2[j]:\n",
    "                    ans = getResult(i + 1, j + 1)\n",
    "                else: \n",
    "                    insert = 1 + getResult(i, j + 1) #insert\n",
    "                    delete = 1 + getResult(i + 1, j) #delete\n",
    "                    replace = 1 + getResult(i + 1, j + 1) #replace\n",
    "                    ans = min(insert, delete, replace)\n",
    "                dp[(i, j)] = ans\n",
    "            return dp[(i, j)]\n",
    "        \n",
    "        return getResult(0,0)"
   ]
  },
  {
   "cell_type": "markdown",
   "metadata": {},
   "source": [
    "### Problem: 312. Burst Balloons\n",
    "Problem Statement:\n",
    "- You are given n balloons, indexed from 0 to n - 1. Each balloon is painted with a number on it represented by an array nums. You are asked to burst all the balloons.\n",
    "- If you burst the ith balloon, you will get nums[i - 1] * nums[i] * nums[i + 1] coins. If i - 1 or i + 1 goes out of bounds of the array, then treat it as if there is a balloon with a 1 painted on it.\n",
    "- Return the maximum coins you can collect by bursting the balloons wisely.\n",
    "\n",
    "Solution Strategy:\n",
    "- Use decision tree recursion and memorization\n",
    "- compute max coins received -> compute max depth of the tree"
   ]
  },
  {
   "cell_type": "code",
   "execution_count": null,
   "metadata": {},
   "outputs": [],
   "source": [
    "class Solution:\n",
    "    def maxCoins(self, nums: List[int]) -> int:\n",
    "        # Add dummy balloons with value 1 at the beginning and end of the `nums` array\n",
    "        nums = [1] + nums + [1]\n",
    "        # Initialize a memoization dictionary to store computed results\n",
    "        memory = {}\n",
    "\n",
    "        # Define a recursive function `dfs` to compute maximum coins within a range [l, r]\n",
    "        def dfs(l, r):\n",
    "            # Base case: If l > r, return 0\n",
    "            if l > r:\n",
    "                return 0\n",
    "            # If the result for the range [l, r] is memoized, return it\n",
    "            if (l, r) in memory:\n",
    "                return memory[(l, r)]\n",
    "            \n",
    "            # Initialize maximum coins within the range [l, r]\n",
    "            memory[(l, r)] = 0\n",
    "            # Iterate over all possible choices of bursting balloons within the range [l, r]\n",
    "            #compute coins receive at when burst the ith element\n",
    "            for i in range(l, r + 1):\n",
    "                #compute total coin received when burth ith ballons\n",
    "                coins = nums[l - 1] * nums[i] * nums[r + 1]\n",
    "                coins += dfs(l, i - 1) + dfs(i + 1, r)\n",
    "                # Update maximum coins for the current range [l, r]\n",
    "                memory[(l, r)] = max(memory[(l, r)], coins)\n",
    "            \n",
    "            return memory[(l, r)]\n",
    "        \n",
    "        # Call the dfs function with the initial range [1, len(nums) - 2]\n",
    "        return dfs(1, len(nums) - 2)"
   ]
  },
  {
   "cell_type": "markdown",
   "metadata": {},
   "source": [
    "### Problem: 10. Regular Expression Matching\n",
    "Problem Statement:\n",
    "- Given an input string s and a pattern p, implement regular expression matching with support for '.' and '*' where:\n",
    "- '.' Matches any single character.​​​​\n",
    "- '*' Matches zero or more of the preceding element.\n",
    "- The matching should cover the entire input string (not partial).\n",
    "\n",
    "Solution Strategy:\n",
    "- use decision tree recursion and memorization\n"
   ]
  },
  {
   "cell_type": "code",
   "execution_count": null,
   "metadata": {},
   "outputs": [],
   "source": [
    "class Solution:\n",
    "    def isMatch(self, s: str, p: str) -> bool:\n",
    "\n",
    "        @cache        \n",
    "        def dfs(i, j):\n",
    "            #base case\n",
    "            if i >= len(s) and j >= len(p):\n",
    "                return True\n",
    "            if j >= len(p):\n",
    "                return False\n",
    "            #check current chars is the same\n",
    "            same = i < len(s ) and (s[i]==p[j] or p[j]=='.')\n",
    "\n",
    "            #handle wild card\n",
    "            if j+1 < len(p) and p[j+1] == \"*\":\n",
    "                #dfs(i, j+2) -> move pass wild card\n",
    "                #dfs(i+1, j) -> match cur char and check next char on s\n",
    "                return dfs(i, j+2) or (same and dfs(i+1, j))\n",
    "            if same:\n",
    "                return dfs(i+1, j+1)\n",
    "            return False\n",
    "\n",
    "        return dfs(0, 0)"
   ]
  }
 ],
 "metadata": {
  "kernelspec": {
   "display_name": "data-structure-algorithm-NWMdtDj1-py3.12",
   "language": "python",
   "name": "python3"
  },
  "language_info": {
   "name": "python",
   "version": "3.12.4"
  }
 },
 "nbformat": 4,
 "nbformat_minor": 2
}
