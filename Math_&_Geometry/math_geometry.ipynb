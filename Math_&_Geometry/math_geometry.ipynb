{
 "cells": [
  {
   "cell_type": "markdown",
   "metadata": {},
   "source": [
    "### Rotate Image\n",
    "Problem Statement:\n",
    "- You are given an n x n 2D matrix representing an image, rotate the image by 90 degrees (clockwise).\n",
    "- You have to rotate the image in-place, which means you have to modify the input 2D matrix directly. DO NOT allocate another 2D matrix and do the rotation.\n",
    "\n",
    "Solution Strategy:\n",
    "- Roation 90 degree equal to\n",
    "    - transpose: swap matrix over diagnal line\n",
    "    - reverse_rows: swap matrix over vertical line"
   ]
  },
  {
   "cell_type": "code",
   "execution_count": null,
   "metadata": {},
   "outputs": [],
   "source": [
    "class Solution:\n",
    "    def rotate(self, matrix: List[List[int]]) -> None:\n",
    "        \"\"\"\n",
    "        Do not return anything, modify matrix in-place instead.\n",
    "        \"\"\"\n",
    "        #rotate matrix 90 degree equal to transpose (column row) and then reverse\n",
    "        def transpose(matrix):\n",
    "            #swap throug diagnal line\n",
    "            for i in range(len(matrix)):\n",
    "                for j in range(i, len(matrix[0])):\n",
    "                    matrix[i][j], matrix[j][i] = matrix[j][i], matrix[i][j]\n",
    "\n",
    "        def reverse_rows(matrix):\n",
    "            #wap throug middle line\n",
    "            for r in range(len(matrix)):\n",
    "                left, right = 0, len(matrix) - 1\n",
    "                while left < right:\n",
    "                    matrix[r][left], matrix[r][right] = matrix[r][right], matrix[r][left]\n",
    "                    left += 1\n",
    "                    right -= 1\n",
    "\n",
    "        transpose(matrix)\n",
    "        reverse_rows(matrix)"
   ]
  },
  {
   "cell_type": "markdown",
   "metadata": {},
   "source": [
    "### Problem 54. Spiral Matrix\n",
    "Problem Statement:\n",
    "- Given an m x n matrix, return all elements of the matrix in spiral order.\n",
    "\n",
    "Solution Strategy:\n",
    "- use left, right, top, bottom indexing\n",
    "- use res[:m*n] to handle special case"
   ]
  },
  {
   "cell_type": "code",
   "execution_count": null,
   "metadata": {},
   "outputs": [],
   "source": [
    "\n",
    "class Solution:\n",
    "    def spiralOrder(self, matrix: List[List[int]]) -> List[int]:\n",
    "        m,n = len(matrix), len(matrix[0])\n",
    "        left, right, top, bottom = 0, n - 1, 0, m - 1\n",
    "        res = []\n",
    "        while left <= right and top <= bottom:\n",
    "            #  top left to top right\n",
    "            for col in range(left,right+1):\n",
    "                res.append(matrix[top][col])\n",
    "            top += 1\n",
    "            # top right to right bottom\n",
    "            for row in range(top, bottom+1):\n",
    "                res.append(matrix[row][right])\n",
    "            right -= 1\n",
    "            # right bottom to left bottom\n",
    "            for col in range(right, left-1, -1):\n",
    "                res.append(matrix[bottom][col])\n",
    "            bottom -= 1\n",
    "             # left bottom to left top\n",
    "            for row in range(bottom, top-1, -1):\n",
    "                res.append(matrix[row][left])\n",
    "            left += 1\n",
    "        # just ignore the redundant and return length of m*n\n",
    "        return res[:m*n]"
   ]
  },
  {
   "cell_type": "markdown",
   "metadata": {},
   "source": [
    "### Problem 73. Set Matrix Zeroes\n",
    "Problem Statement:\n",
    "- Given an m x n integer matrix matrix, if an element is 0, set its entire row and column to 0's.\n",
    "- You must do it in place.\n",
    "\n",
    "Solution Strategy:\n",
    "- use rows_set, cols_set to memory cols and rows to set to zero"
   ]
  },
  {
   "cell_type": "code",
   "execution_count": null,
   "metadata": {},
   "outputs": [],
   "source": [
    "class Solution(object):\n",
    "    def setZeroes(self, matrix):\n",
    "        \"\"\"\n",
    "        :type matrix: List[List[int]]\n",
    "        :rtype: None Do not return anything, modify matrix in-place instead.\n",
    "        \"\"\"\n",
    "        m, n = len(matrix), len(matrix[0])\n",
    "        #mark rows, cols which need to set to 0\n",
    "        rows_set, cols_set = set(), set() \n",
    "\n",
    "        #mark rows, and cols to turn 0\n",
    "        for i in range(m):\n",
    "            for j in range(n):\n",
    "                if matrix[i][j] == 0:\n",
    "                    rows_set.add(i)\n",
    "                    cols_set.add(j)\n",
    "        \n",
    "        #set rows to 0\n",
    "        for row in rows_set:\n",
    "            for j in range(n):\n",
    "                matrix[row][j] = 0\n",
    "        \n",
    "        #set cols to 0\n",
    "        for col in cols_set:\n",
    "            for i in range(m):\n",
    "                matrix[i][col] = 0\n",
    "\n",
    "        "
   ]
  },
  {
   "cell_type": "markdown",
   "metadata": {},
   "source": [
    "### Problem 202. Happy Number\n",
    "Solution Statement:\n",
    "- Write an algorithm to determine if a number n is happy.\n",
    "- A happy number is a number defined by the following process:\n",
    "    - Starting with any positive integer, replace the number by the sum of the squares of its digits.\n",
    "    - Repeat the process until the number equals 1 (where it will stay), or it loops endlessly in a cycle which does not include 1.\n",
    "    - Those numbers for which this process ends in 1 are happy.\n",
    "- Return true if n is a happy number, and false if not.\n",
    "\n",
    "Solution Strategy:\n",
    "- user recursion because we know the operation either reduce n to 1 or it form a loop\n",
    "- use visited to keep track of n which have been process\n"
   ]
  },
  {
   "cell_type": "code",
   "execution_count": null,
   "metadata": {},
   "outputs": [],
   "source": [
    "class Solution:\n",
    "    def isHappy(self, n: int, visited=None) -> bool:\n",
    "        if not visited:\n",
    "            visited = set()\n",
    "        \n",
    "        #base case\n",
    "        if n == 1:\n",
    "            return True\n",
    "        if n in visited:\n",
    "            return False\n",
    "\n",
    "        visited.add(n)\n",
    "        n = sum(int(i)**2 for i in str(n))\n",
    "        return self.isHappy(n, visited)\n",
    "        "
   ]
  },
  {
   "cell_type": "markdown",
   "metadata": {},
   "source": [
    "### Problem 66. Plus One\n",
    "Problem Statement:\n",
    "- You are given a large integer represented as an integer array digits, where each digits[i] is the ith digit of the integer. The digits are ordered from most significant to least significant in left-to-right order. The large integer does not contain any leading 0's.\n",
    "- Increment the large integer by one and return the resulting array of digits.\n",
    "\n",
    "Solution Strategy:\n",
    "- traverse list form right to left instead of left to right"
   ]
  },
  {
   "cell_type": "code",
   "execution_count": null,
   "metadata": {},
   "outputs": [],
   "source": [
    "class Solution:\n",
    "    def plusOne(self, digits: List[int]) -> List[int]:\n",
    "\n",
    "        n = len(digits)\n",
    "        for i in range(n-1, -1, -1):\n",
    "            if digits[i] == 9:\n",
    "                digits[i] = 0\n",
    "            else:\n",
    "                digits[i] = digits[i] + 1\n",
    "                return digits\n",
    "        #add 1 if all digits is 9\n",
    "        return [1] + digits\n",
    "        "
   ]
  },
  {
   "cell_type": "markdown",
   "metadata": {},
   "source": [
    "### 50. Pow(x, n)\n",
    "Problem Statement:\n",
    "- Implement pow(x, n), which calculates x raised to the power n (i.e., xn).\n",
    "\n",
    "Solution Strategy:\n",
    "- use recurion with memorization\n"
   ]
  },
  {
   "cell_type": "code",
   "execution_count": null,
   "metadata": {},
   "outputs": [],
   "source": [
    "class Solution:\n",
    "    @cache\n",
    "    def myPow(self, x: float, n: int) -> float:\n",
    "\n",
    "        #use recursion\n",
    "        #base case\n",
    "        if n == 0:\n",
    "            return 1\n",
    "        elif n < 0:\n",
    "            return 1/(x*self.myPow(x, -n-1))\n",
    "        elif n % 2 == 0:\n",
    "            return self.myPow(x, n//2) * self.myPow(x, n//2)\n",
    "        return x*self.myPow(x, n-1)"
   ]
  },
  {
   "cell_type": "markdown",
   "metadata": {},
   "source": [
    "### Problem 2013. Detect Squares\n",
    "Problem Statement:\n",
    "- You are given a stream of points on the X-Y plane. Design an algorithm that:\n",
    "- Adds new points from the stream into a data structure. Duplicate points are allowed and should be treated as different points.\n",
    "Given a query point, counts the number of ways to choose three points from the data structure such that the three points and the query point form an axis-aligned square with positive area.\n",
    "- An axis-aligned square is a square whose edges are all the same length and are either parallel or perpendicular to the x-axis and y-axis.\n",
    "- Implement the DetectSquares class:\n",
    "    - DetectSquares() Initializes the object with an empty data structure.\n",
    "    - void add(int[] point) Adds a new point point = [x, y] to the data structure.\n",
    "    -int count(int[] point) Counts the number of ways to form axis-aligned squares with point point = [x, y] as described above.\n",
    "\n",
    "Solution Strategy:\n",
    "- self.points -> keep points \n",
    "- check square diagnal condition and then check square condition"
   ]
  },
  {
   "cell_type": "code",
   "execution_count": null,
   "metadata": {},
   "outputs": [],
   "source": [
    "class DetectSquares:\n",
    "\n",
    "    def __init__(self):\n",
    "        self.points = collections.defaultdict(int)\n",
    "\n",
    "    def add(self, point: List[int]) -> None:\n",
    "        self.points[tuple(point)] += 1\n",
    "\n",
    "    def count(self, point: List[int]) -> int:\n",
    "        square_count = 0\n",
    "        x1, y1 = point\n",
    "\n",
    "        for (x2, y2), n in self.points.items():\n",
    "            x_dist, y_dist = abs(x1 - x2), abs(y1 - y2)\n",
    "            #check diagal condition\n",
    "            if x_dist == y_dist and x_dist > 0:\n",
    "                corner1 = (x1, y2)\n",
    "                corner2 = (x2, y1)\n",
    "                #check square condition\n",
    "                if corner1 in self.points and corner2 in self.points:\n",
    "                    #compute number of combination\n",
    "                    square_count += n * self.points[corner1] * self.points[corner2]\n",
    "\n",
    "        return square_count\n",
    "    "
   ]
  }
 ],
 "metadata": {
  "kernelspec": {
   "display_name": "data-structure-algorithm-NWMdtDj1-py3.12",
   "language": "python",
   "name": "python3"
  },
  "language_info": {
   "name": "python",
   "version": "3.12.4"
  }
 },
 "nbformat": 4,
 "nbformat_minor": 2
}
