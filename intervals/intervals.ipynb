{
 "cells": [
  {
   "cell_type": "markdown",
   "metadata": {},
   "source": [
    "### Problem 252. Meeting Rooms\n",
    "\n",
    "Problem Statement:\n",
    "\n",
    "Given an array of meeting time intervals consisting of start and end times [[s1,e1],[s2,e2],...] (si < ei), determine if a person could attend all meetings.\n",
    "\n",
    "```\n",
    "Example 1:\n",
    "\n",
    "Input: [[0,30],[5,10],[15,20]]\n",
    "Output: false\n",
    "Example 2:\n",
    "\n",
    "Input: [[7,10],[2,4]]\n",
    "Output: true\n",
    "```\n",
    "NOTE: input types have been changed on April 15, 2019. Please reset to default code definition to get new method signature."
   ]
  },
  {
   "cell_type": "code",
   "execution_count": null,
   "metadata": {},
   "outputs": [],
   "source": [
    "class Solution(object):\n",
    "    def canAttendMeetings(self, intervals):\n",
    "        \"\"\"\n",
    "        :type intervals: List[Interval]\n",
    "        :rtype: bool\n",
    "        \"\"\"\n",
    "        intervals.sort(key=lambda itv: (itv.start, itv.end))\n",
    "        for i in range(1, len(intervals)):\n",
    "            if intervals[i].start < intervals[i - 1].end:\n",
    "                return False\n",
    "\n",
    "        return True"
   ]
  },
  {
   "cell_type": "markdown",
   "metadata": {},
   "source": [
    "### 253. Meeting Rooms II\n",
    "\n",
    "#### Question\n",
    "Given an array of meeting time intervals consisting of start and end times [[s1,e1],[s2,e2],...] (si < ei), find the minimum number of conference rooms required.\n",
    "\n",
    "For example,\n",
    "Given [[0, 30],[5, 10],[15, 20]],"
   ]
  },
  {
   "cell_type": "code",
   "execution_count": null,
   "metadata": {},
   "outputs": [],
   "source": [
    "# Definition for an interval.\n",
    "# class Interval(object):\n",
    "#     def __init__(self, s=0, e=0):\n",
    "#         self.start = s\n",
    "#         self.end = e\n",
    "\n",
    "from heapq import heappush, heappop\n",
    "\n",
    "\n",
    "class Solution(object):\n",
    "    def minMeetingRooms(self, intervals):\n",
    "        \"\"\"\n",
    "        :type intervals: List[Interval]\n",
    "        :rtype: int\n",
    "        \"\"\"\n",
    "        SI = sorted(intervals, key=lambda it: (it.start, it.end))  # sorted intervals\n",
    "\n",
    "        ret = 0\n",
    "        heap = []  # contains end times\n",
    "\n",
    "        for it in SI:\n",
    "            start, end = it.start, it.end\n",
    "\n",
    "            while heap and heap[0] <= start:\n",
    "                heappop(heap)\n",
    "\n",
    "            heappush(heap, end)\n",
    "\n",
    "            ret = max(ret, len(heap))\n",
    "\n",
    "        return ret"
   ]
  },
  {
   "cell_type": "markdown",
   "metadata": {},
   "source": [
    "### 1851. Minimum Interval to Include Each Query\n",
    "Problem Statement:\n",
    "- You are given a 2D integer array intervals, where intervals[i] = [lefti, righti] describes the ith interval starting at lefti and ending at righti (inclusive). The size of an interval is defined as the number of integers it contains, or more formally righti - lefti + 1.\n",
    "- You are also given an integer array queries. The answer to the jth query is the size of the smallest interval i such that lefti <= queries[j] <= righti. If no such interval exists, the answer is -1.\n",
    "- Return an array containing the answers to the queries.\n",
    "\n",
    "- Example 1:\n",
    "    - Input: intervals = [[1,4],[2,4],[3,6],[4,4]], queries = [2,3,4,5]\n",
    "    - Output: [3,3,1,4]\n",
    "    - Explanation: The queries are processed as follows:\n",
    "    - Query = 2: The interval [2,4] is the smallest interval containing 2. The answer is 4 - 2 + 1 = 3.\n",
    "    - Query = 3: The interval [2,4] is the smallest interval containing 3. The answer is 4 - 2 + 1 = 3.\n",
    "    - Query = 4: The interval [4,4] is the smallest interval containing 4. The answer is 4 - 4 + 1 = 1.\n",
    "    - Query = 5: The interval [3,6] is the smallest interval containing 5. The "
   ]
  },
  {
   "cell_type": "code",
   "execution_count": null,
   "metadata": {},
   "outputs": [],
   "source": [
    "from typing import List\n",
    "import heapq\n",
    "class Solution:\n",
    "    def minInterval(self, intervals: List[List[int]], queries: List[int]) -> List[int]:\n",
    "        # Sort intervals in decreasing order of left end\n",
    "        intervals.sort(reverse=True)\n",
    "\n",
    "        # Sort queries and track their original index\n",
    "        sorted_queries = sorted(enumerate(queries), key=lambda y: y[1])\n",
    "        ans = [-1] * len(queries)\n",
    "\n",
    "        # Heap of (size, right_end) pairs\n",
    "        active_intervals = []\n",
    "\n",
    "        for orig_index, point in sorted_queries:\n",
    "\n",
    "            # Clear all \"expired\" intervals [start, end] with end < point\n",
    "            while active_intervals and active_intervals[0][1] < point:\n",
    "                heapq.heappop(active_intervals)\n",
    "\n",
    "            # Process new intervals in order of start; add (size, end) of interval to heap\n",
    "            while intervals and intervals[-1][0] <= point:\n",
    "                x, y = intervals.pop()\n",
    "                # If interval is not expired\n",
    "                if y >= point:\n",
    "                    heapq.heappush(active_intervals, (y - x + 1, y))\n",
    "\n",
    "            if active_intervals:\n",
    "                ans[orig_index] = active_intervals[0][0]\n",
    "\n",
    "        return ans"
   ]
  }
 ],
 "metadata": {
  "kernelspec": {
   "display_name": "data-structure-algorithm-NWMdtDj1-py3.12",
   "language": "python",
   "name": "python3"
  },
  "language_info": {
   "name": "python",
   "version": "3.12.5"
  }
 },
 "nbformat": 4,
 "nbformat_minor": 2
}
